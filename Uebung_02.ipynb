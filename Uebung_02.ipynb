{
 "cells": [
  {
   "cell_type": "code",
   "execution_count": 1,
   "metadata": {},
   "outputs": [
    {
     "name": "stdout",
     "output_type": "stream",
     "text": [
      "Requirement already satisfied: emoji in c:\\users\\clemens\\scoop\\persist\\python\\lib\\site-packages (1.7.0)\n",
      "Note: you may need to restart the kernel to use updated packages.\n"
     ]
    }
   ],
   "source": [
    "%pip install emoji\n",
    "import emoji"
   ]
  },
  {
   "cell_type": "code",
   "execution_count": 2,
   "metadata": {},
   "outputs": [],
   "source": [
    "def print_state(s):  # Visualisierung der Zustände, für die Lösung des Problems nicht relevant\n",
    "    c = ':rage:'\n",
    "    m = ':innocent:'\n",
    "    t = ':palm_tree:'\n",
    "    t1 = ':cactus:'\n",
    "    l = ''\n",
    "    for i in range(s[0]):\n",
    "        l += m\n",
    "    for i in range(s[1]):\n",
    "        l += c\n",
    "    for i in range(2*n - (s[0]+s[1])):\n",
    "        l += t1\n",
    "    if s[-1] == 0:\n",
    "        l += ':speedboat:'\n",
    "    l += '                         '\n",
    "    if s[-1] == 1:\n",
    "        l += ':speedboat:'\n",
    "    for i in range(s[2]):\n",
    "        l += m\n",
    "    for i in range(s[3]):\n",
    "        l += c\n",
    "    for i in range(2*n - (s[2]+s[3])):\n",
    "        l += t\n",
    "    print(emoji.emojize(l, language='alias'))"
   ]
  },
  {
   "cell_type": "code",
   "execution_count": 3,
   "metadata": {},
   "outputs": [],
   "source": [
    "def applicable(s):  # War die Aktion in dem Zustand anwendbar? Der neue Zustand 's' wird hier überprüft \n",
    "    if not 0 <= s[-1] <= 1:  # Keine zwei Fahrten in dieselbe Richtung hintereinander\n",
    "        return False\n",
    "    if sorted(s[:-1])[0] < 0: # Anzahl der Personen kann nirgends negativ sein\n",
    "        return False \n",
    "    if 0 < s[0] < s[1]:  # Missionare in der Unterzahl links\n",
    "        return False\n",
    "    if 0 < s[2] < s[3]:  # Missionare in der Unterzahl rechts\n",
    "        return False\n",
    "    return True"
   ]
  },
  {
   "cell_type": "code",
   "execution_count": 4,
   "metadata": {},
   "outputs": [],
   "source": [
    "def bf_search(s_start, s_goal, A):  # Breitensuche in dem Zustandsraum.\n",
    "    visited = []\n",
    "    queue = [(s_start, [])]\n",
    "    while len(queue) > 0:\n",
    "        (s, a_seq) = queue.pop(0)\n",
    "        visited.append(s)        \n",
    "        for i, a in enumerate(A):\n",
    "            s_n = [s_ + a_ for s_, a_ in zip(s, a)]\n",
    "            if applicable(s_n):\n",
    "                a_seq_n  = a_seq + [i]\n",
    "                if s_n == s_goal:\n",
    "                    return a_seq_n\n",
    "                if not s_n in visited:\n",
    "                    queue.append((s_n, a_seq_n))\n",
    "    return None"
   ]
  },
  {
   "cell_type": "code",
   "execution_count": 5,
   "metadata": {},
   "outputs": [],
   "source": [
    "# Aktionsmenge\n",
    "A = [\n",
    "    # Hinfahrten\n",
    "     [-2, 0, +2, 0, +1],  # Negative Zahl steht für Personen welche die jeweilige Seite des Flusses verlassen. Letztes Element ist die Veränderung des Bootsposition \n",
    "     [0, -2, 0, +2, +1],\n",
    "     [-1, -1, +1, +1, +1],\n",
    "     [-1, 0, +1, 0, +1],\n",
    "     [0, -1, 0, +1, +1],\n",
    "    # Rueckfahrten\n",
    "     [+2, 0, -2, 0, -1],\n",
    "     [0, +2, 0, -2, -1],\n",
    "     [+1, +1, -1, -1, -1],\n",
    "     [+1, 0, -1, 0, -1],\n",
    "     [0, +1, 0, -1, -1],\n",
    "    ]"
   ]
  },
  {
   "cell_type": "code",
   "execution_count": 6,
   "metadata": {},
   "outputs": [],
   "source": [
    "def show_solution(n): # Anzahl der Missionare bzw. Kannibale\n",
    "    # Start- und Zielzustaende\n",
    "    s_start = [n, n, 0, 0, 0]   # [Missionare links, Kannibale links, Missionare rechts, Kannibale rechts, Bootsposition(L\\R)]\n",
    "    s_goal =  [0, 0, n, n, 1]\n",
    "\n",
    "    res = bf_search(s_start, s_goal, A)  # Anwendung der Breitensuche\n",
    "    if res is not None:  # Visualisierung der Zustände, falls das Packet Emoji vorhanden ist\n",
    "        print(f\"Für das Problem mit n = {n} sind mindestens {len(res)} Fahrten notwendig.\")\n",
    "        s = s_start\n",
    "        print_state(s)\n",
    "        for r in res:\n",
    "            a = A[r]\n",
    "            s = [s_ + a_ for s_, a_ in zip(s, a)]\n",
    "            print_state(s)\n",
    "    else:\n",
    "        print(f\"Für das Problem mit n = {n} gibt es keine Lösung!\")"
   ]
  },
  {
   "cell_type": "code",
   "execution_count": 7,
   "metadata": {},
   "outputs": [
    {
     "name": "stdout",
     "output_type": "stream",
     "text": [
      "Für das Problem mit n = 2 sind mindestens 5 Fahrten notwendig.\n",
      "😇😇😡😡🚤                         🌴🌴🌴🌴\n",
      "😇😇🌵🌵                         🚤😡😡🌴🌴\n",
      "😇😇😡🌵🚤                         😡🌴🌴🌴\n",
      "😡🌵🌵🌵                         🚤😇😇😡🌴\n",
      "😇😡🌵🌵🚤                         😇😡🌴🌴\n",
      "🌵🌵🌵🌵                         🚤😇😇😡😡\n",
      "Für das Problem mit n = 3 sind mindestens 11 Fahrten notwendig.\n",
      "😇😇😇😡😡😡🚤                         🌴🌴🌴🌴🌴🌴\n",
      "😇😇😇😡🌵🌵                         🚤😡😡🌴🌴🌴🌴\n",
      "😇😇😇😡😡🌵🚤                         😡🌴🌴🌴🌴🌴\n",
      "😇😇😇🌵🌵🌵                         🚤😡😡😡🌴🌴🌴\n",
      "😇😇😇😡🌵🌵🚤                         😡😡🌴🌴🌴🌴\n",
      "😇😡🌵🌵🌵🌵                         🚤😇😇😡😡🌴🌴\n",
      "😇😇😡😡🌵🌵🚤                         😇😡🌴🌴🌴🌴\n",
      "😡😡🌵🌵🌵🌵                         🚤😇😇😇😡🌴🌴\n",
      "😡😡😡🌵🌵🌵🚤                         😇😇😇🌴🌴🌴\n",
      "😡🌵🌵🌵🌵🌵                         🚤😇😇😇😡😡🌴\n",
      "😇😡🌵🌵🌵🌵🚤                         😇😇😡😡🌴🌴\n",
      "🌵🌵🌵🌵🌵🌵                         🚤😇😇😇😡😡😡\n",
      "Für das Problem mit n = 4 gibt es keine Lösung!\n",
      "Für das Problem mit n = 5 gibt es keine Lösung!\n",
      "Für das Problem mit n = 6 gibt es keine Lösung!\n",
      "Für das Problem mit n = 7 gibt es keine Lösung!\n",
      "Für das Problem mit n = 8 gibt es keine Lösung!\n",
      "Für das Problem mit n = 9 gibt es keine Lösung!\n",
      "...\n"
     ]
    }
   ],
   "source": [
    "for n in range(2, 10):\n",
    "    show_solution(n)\n",
    "print(\"...\")"
   ]
  }
 ],
 "metadata": {
  "interpreter": {
   "hash": "aca2a733a2af1563b00c07cd1c761689cce58e2495168a5af8813550b79b034f"
  },
  "kernelspec": {
   "display_name": "Python 3.10.4 64-bit",
   "language": "python",
   "name": "python3"
  },
  "language_info": {
   "codemirror_mode": {
    "name": "ipython",
    "version": 3
   },
   "file_extension": ".py",
   "mimetype": "text/x-python",
   "name": "python",
   "nbconvert_exporter": "python",
   "pygments_lexer": "ipython3",
   "version": "3.10.4"
  }
 },
 "nbformat": 4,
 "nbformat_minor": 4
}
